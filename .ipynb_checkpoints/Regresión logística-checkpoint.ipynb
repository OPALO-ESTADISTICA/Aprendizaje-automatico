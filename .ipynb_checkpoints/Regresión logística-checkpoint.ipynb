{
 "cells": [
  {
   "cell_type": "code",
   "execution_count": 1,
   "metadata": {},
   "outputs": [],
   "source": [
    "import pandas as pd\n",
    "import numpy as np\n",
    "import matplotlib.pyplot as plt\n",
    "import seaborn as sns\n",
    "from sklearn.model_selection import train_test_split\n",
    "from sklearn import preprocessing\n",
    "from sklearn.feature_selection import RFE\n",
    "from sklearn.linear_model import LogisticRegression\n",
    "from sklearn.metrics import classification_report, confusion_matrix"
   ]
  },
  {
   "cell_type": "code",
   "execution_count": 2,
   "metadata": {},
   "outputs": [],
   "source": [
    "r=\"winequality-red.csv\"\n",
    "datos=pd.read_csv(r,sep=\";\")\n",
    "nombres= datos.columns"
   ]
  },
  {
   "cell_type": "code",
   "execution_count": 3,
   "metadata": {},
   "outputs": [],
   "source": [
    "X=datos.drop([\"quality\"],axis=1).values\n",
    "y=datos[\"quality\"].values\n",
    "X_train,X_test,y_train,y_test=train_test_split(X,y,test_size=0.2,\n",
    "                                               random_state=1234)"
   ]
  },
  {
   "cell_type": "code",
   "execution_count": 4,
   "metadata": {},
   "outputs": [],
   "source": [
    "scaler= preprocessing.StandardScaler().fit(X_train)\n",
    "X_train_scaled=scaler.transform(X_train)\n",
    "X_test_scaled=scaler.transform(X_test)"
   ]
  },
  {
   "cell_type": "markdown",
   "metadata": {},
   "source": [
    "Entrenamiento del modelo"
   ]
  },
  {
   "cell_type": "code",
   "execution_count": 5,
   "metadata": {},
   "outputs": [
    {
     "name": "stderr",
     "output_type": "stream",
     "text": [
      "C:\\Users\\USUARIO\\anaconda3\\lib\\site-packages\\sklearn\\linear_model\\_logistic.py:940: ConvergenceWarning: lbfgs failed to converge (status=1):\n",
      "STOP: TOTAL NO. of ITERATIONS REACHED LIMIT.\n",
      "\n",
      "Increase the number of iterations (max_iter) or scale the data as shown in:\n",
      "    https://scikit-learn.org/stable/modules/preprocessing.html\n",
      "Please also refer to the documentation for alternative solver options:\n",
      "    https://scikit-learn.org/stable/modules/linear_model.html#logistic-regression\n",
      "  extra_warning_msg=_LOGISTIC_SOLVER_CONVERGENCE_MSG)\n"
     ]
    },
    {
     "data": {
      "text/plain": [
       "LogisticRegression(C=1.0, class_weight=None, dual=False, fit_intercept=True,\n",
       "                   intercept_scaling=1, l1_ratio=None, max_iter=100,\n",
       "                   multi_class='auto', n_jobs=None, penalty='l2',\n",
       "                   random_state=None, solver='lbfgs', tol=0.0001, verbose=0,\n",
       "                   warm_start=False)"
      ]
     },
     "execution_count": 5,
     "metadata": {},
     "output_type": "execute_result"
    }
   ],
   "source": [
    "logreg=LogisticRegression()\n",
    "logreg.fit(X_train_scaled,y_train)"
   ]
  },
  {
   "cell_type": "code",
   "execution_count": 6,
   "metadata": {},
   "outputs": [
    {
     "name": "stdout",
     "output_type": "stream",
     "text": [
      "Coeficientes de regresión\n"
     ]
    },
    {
     "data": {
      "text/html": [
       "<div>\n",
       "<style scoped>\n",
       "    .dataframe tbody tr th:only-of-type {\n",
       "        vertical-align: middle;\n",
       "    }\n",
       "\n",
       "    .dataframe tbody tr th {\n",
       "        vertical-align: top;\n",
       "    }\n",
       "\n",
       "    .dataframe thead th {\n",
       "        text-align: right;\n",
       "    }\n",
       "</style>\n",
       "<table border=\"1\" class=\"dataframe\">\n",
       "  <thead>\n",
       "    <tr style=\"text-align: right;\">\n",
       "      <th></th>\n",
       "      <th>fixed acidity</th>\n",
       "      <th>volatile acidity</th>\n",
       "      <th>citric acid</th>\n",
       "      <th>residual sugar</th>\n",
       "      <th>chlorides</th>\n",
       "      <th>free sulfur dioxide</th>\n",
       "      <th>total sulfur dioxide</th>\n",
       "      <th>density</th>\n",
       "      <th>pH</th>\n",
       "      <th>sulphates</th>\n",
       "      <th>alcohol</th>\n",
       "    </tr>\n",
       "  </thead>\n",
       "  <tbody>\n",
       "    <tr>\n",
       "      <th>3</th>\n",
       "      <td>0.242479</td>\n",
       "      <td>1.208229</td>\n",
       "      <td>0.131959</td>\n",
       "      <td>-0.306626</td>\n",
       "      <td>0.791286</td>\n",
       "      <td>0.485690</td>\n",
       "      <td>-0.646283</td>\n",
       "      <td>0.854924</td>\n",
       "      <td>0.459338</td>\n",
       "      <td>-0.611906</td>\n",
       "      <td>-0.898394</td>\n",
       "    </tr>\n",
       "    <tr>\n",
       "      <th>4</th>\n",
       "      <td>0.669482</td>\n",
       "      <td>0.423174</td>\n",
       "      <td>-0.141025</td>\n",
       "      <td>0.353971</td>\n",
       "      <td>-0.081732</td>\n",
       "      <td>-0.530805</td>\n",
       "      <td>0.387658</td>\n",
       "      <td>-0.776785</td>\n",
       "      <td>0.654562</td>\n",
       "      <td>-0.540920</td>\n",
       "      <td>-0.836407</td>\n",
       "    </tr>\n",
       "    <tr>\n",
       "      <th>5</th>\n",
       "      <td>-0.476485</td>\n",
       "      <td>0.015697</td>\n",
       "      <td>-0.052667</td>\n",
       "      <td>-0.200999</td>\n",
       "      <td>0.227727</td>\n",
       "      <td>-0.218282</td>\n",
       "      <td>0.792967</td>\n",
       "      <td>0.355586</td>\n",
       "      <td>-0.154946</td>\n",
       "      <td>-0.240991</td>\n",
       "      <td>-0.486039</td>\n",
       "    </tr>\n",
       "    <tr>\n",
       "      <th>6</th>\n",
       "      <td>-0.218142</td>\n",
       "      <td>-0.420769</td>\n",
       "      <td>-0.238486</td>\n",
       "      <td>-0.167291</td>\n",
       "      <td>0.128032</td>\n",
       "      <td>-0.023586</td>\n",
       "      <td>0.329696</td>\n",
       "      <td>0.143313</td>\n",
       "      <td>-0.078843</td>\n",
       "      <td>0.106777</td>\n",
       "      <td>0.259776</td>\n",
       "    </tr>\n",
       "    <tr>\n",
       "      <th>7</th>\n",
       "      <td>0.290230</td>\n",
       "      <td>-0.779499</td>\n",
       "      <td>-0.179338</td>\n",
       "      <td>0.223608</td>\n",
       "      <td>-0.318815</td>\n",
       "      <td>0.033249</td>\n",
       "      <td>-0.051839</td>\n",
       "      <td>-0.317819</td>\n",
       "      <td>-0.054646</td>\n",
       "      <td>0.523461</td>\n",
       "      <td>0.772392</td>\n",
       "    </tr>\n",
       "    <tr>\n",
       "      <th>8</th>\n",
       "      <td>-0.507564</td>\n",
       "      <td>-0.446832</td>\n",
       "      <td>0.479557</td>\n",
       "      <td>0.097337</td>\n",
       "      <td>-0.746499</td>\n",
       "      <td>0.253734</td>\n",
       "      <td>-0.812198</td>\n",
       "      <td>-0.259218</td>\n",
       "      <td>-0.825464</td>\n",
       "      <td>0.763580</td>\n",
       "      <td>1.188671</td>\n",
       "    </tr>\n",
       "  </tbody>\n",
       "</table>\n",
       "</div>"
      ],
      "text/plain": [
       "   fixed acidity  volatile acidity  citric acid  residual sugar  chlorides  \\\n",
       "3       0.242479          1.208229     0.131959       -0.306626   0.791286   \n",
       "4       0.669482          0.423174    -0.141025        0.353971  -0.081732   \n",
       "5      -0.476485          0.015697    -0.052667       -0.200999   0.227727   \n",
       "6      -0.218142         -0.420769    -0.238486       -0.167291   0.128032   \n",
       "7       0.290230         -0.779499    -0.179338        0.223608  -0.318815   \n",
       "8      -0.507564         -0.446832     0.479557        0.097337  -0.746499   \n",
       "\n",
       "   free sulfur dioxide  total sulfur dioxide   density        pH  sulphates  \\\n",
       "3             0.485690             -0.646283  0.854924  0.459338  -0.611906   \n",
       "4            -0.530805              0.387658 -0.776785  0.654562  -0.540920   \n",
       "5            -0.218282              0.792967  0.355586 -0.154946  -0.240991   \n",
       "6            -0.023586              0.329696  0.143313 -0.078843   0.106777   \n",
       "7             0.033249             -0.051839 -0.317819 -0.054646   0.523461   \n",
       "8             0.253734             -0.812198 -0.259218 -0.825464   0.763580   \n",
       "\n",
       "    alcohol  \n",
       "3 -0.898394  \n",
       "4 -0.836407  \n",
       "5 -0.486039  \n",
       "6  0.259776  \n",
       "7  0.772392  \n",
       "8  1.188671  "
      ]
     },
     "execution_count": 6,
     "metadata": {},
     "output_type": "execute_result"
    }
   ],
   "source": [
    "logreg.coef_\n",
    "coef=pd.DataFrame(logreg.coef_, columns=nombres[:-1],index=[3,4,5,6,7,8])\n",
    "print(\"Coeficientes de regresión\")\n",
    "coef"
   ]
  },
  {
   "cell_type": "markdown",
   "metadata": {},
   "source": [
    "Prueba y evaluación de desempeño del modelo"
   ]
  },
  {
   "cell_type": "code",
   "execution_count": 7,
   "metadata": {},
   "outputs": [
    {
     "name": "stdout",
     "output_type": "stream",
     "text": [
      "[[  0   1   1   0   0   0]\n",
      " [  0   0   4   3   1   0]\n",
      " [  0   0 113  25   0   0]\n",
      " [  0   0  38  86   7   0]\n",
      " [  0   0   3  24  12   0]\n",
      " [  0   0   0   1   1   0]]\n",
      "              precision    recall  f1-score   support\n",
      "\n",
      "           3       0.00      0.00      0.00         2\n",
      "           4       0.00      0.00      0.00         8\n",
      "           5       0.71      0.82      0.76       138\n",
      "           6       0.62      0.66      0.64       131\n",
      "           7       0.57      0.31      0.40        39\n",
      "           8       0.00      0.00      0.00         2\n",
      "\n",
      "    accuracy                           0.66       320\n",
      "   macro avg       0.32      0.30      0.30       320\n",
      "weighted avg       0.63      0.66      0.64       320\n",
      "\n"
     ]
    },
    {
     "name": "stderr",
     "output_type": "stream",
     "text": [
      "C:\\Users\\USUARIO\\anaconda3\\lib\\site-packages\\sklearn\\metrics\\_classification.py:1272: UndefinedMetricWarning: Precision and F-score are ill-defined and being set to 0.0 in labels with no predicted samples. Use `zero_division` parameter to control this behavior.\n",
      "  _warn_prf(average, modifier, msg_start, len(result))\n"
     ]
    }
   ],
   "source": [
    "predict=logreg.predict(X_test_scaled)\n",
    "print(confusion_matrix(y_test,predict))\n",
    "print(classification_report(y_test,predict))"
   ]
  },
  {
   "cell_type": "code",
   "execution_count": 8,
   "metadata": {},
   "outputs": [
    {
     "data": {
      "image/png": "[encoded data removed]",
      "text/plain": [
       "<Figure size 432x288 with 1 Axes>"
      ]
     },
     "metadata": {
      "needs_background": "light"
     },
     "output_type": "display_data"
    }
   ],
   "source": [
    "plt.hist([y_test,predict],label=[\"Valor pronosticado\",\"Valor real\"])\n",
    "plt.title(\"Valor observado vs pronóstico\")\n",
    "plt.ylabel('Frecuencia')\n",
    "plt.xlabel(\"Clase\")\n",
    "plt.legend(loc=0)\n",
    "#plt.savefig(\"Error_logre\")\n",
    "plt.show()"
   ]
  },
  {
   "cell_type": "markdown",
   "metadata": {},
   "source": [
    "Selección de características"
   ]
  },
  {
   "cell_type": "code",
   "execution_count": 9,
   "metadata": {
    "scrolled": true
   },
   "outputs": [
    {
     "name": "stderr",
     "output_type": "stream",
     "text": [
      "C:\\Users\\USUARIO\\anaconda3\\lib\\site-packages\\sklearn\\linear_model\\_logistic.py:940: ConvergenceWarning: lbfgs failed to converge (status=1):\n",
      "STOP: TOTAL NO. of ITERATIONS REACHED LIMIT.\n",
      "\n",
      "Increase the number of iterations (max_iter) or scale the data as shown in:\n",
      "    https://scikit-learn.org/stable/modules/preprocessing.html\n",
      "Please also refer to the documentation for alternative solver options:\n",
      "    https://scikit-learn.org/stable/modules/linear_model.html#logistic-regression\n",
      "  extra_warning_msg=_LOGISTIC_SOLVER_CONVERGENCE_MSG)\n"
     ]
    },
    {
     "name": "stdout",
     "output_type": "stream",
     "text": [
      "Listado de las variables:\n",
      "                      Importancia\n",
      "volatile acidity                1\n",
      "chlorides                       1\n",
      "total sulfur dioxide            1\n",
      "sulphates                       1\n",
      "alcohol                         1\n",
      "density                         2\n",
      "pH                              3\n",
      "fixed acidity                   4\n",
      "free sulfur dioxide             5\n",
      "citric acid                     6\n",
      "residual sugar                  7\n"
     ]
    }
   ],
   "source": [
    "rfe= RFE(logreg)\n",
    "ref=rfe.fit(X_train_scaled,y_train)\n",
    "car=pd.DataFrame(ref.ranking_,index=nombres[:-1],columns=[\"Importancia\"])\n",
    "print(\"Listado de las variables:\")\n",
    "print(car.sort_values(by=\"Importancia\"))"
   ]
  },
  {
   "cell_type": "markdown",
   "metadata": {},
   "source": [
    "Incluyendo las variable identificadas como influyentes"
   ]
  },
  {
   "cell_type": "code",
   "execution_count": 10,
   "metadata": {},
   "outputs": [
    {
     "name": "stdout",
     "output_type": "stream",
     "text": [
      "[[  0   0   2   0   0   0]\n",
      " [  0   0   4   4   0   0]\n",
      " [  0   0 109  29   0   0]\n",
      " [  0   0  43  80   8   0]\n",
      " [  0   0   3  23  13   0]\n",
      " [  0   0   0   1   1   0]]\n",
      "              precision    recall  f1-score   support\n",
      "\n",
      "           3       0.00      0.00      0.00         2\n",
      "           4       0.00      0.00      0.00         8\n",
      "           5       0.68      0.79      0.73       138\n",
      "           6       0.58      0.61      0.60       131\n",
      "           7       0.59      0.33      0.43        39\n",
      "           8       0.00      0.00      0.00         2\n",
      "\n",
      "    accuracy                           0.63       320\n",
      "   macro avg       0.31      0.29      0.29       320\n",
      "weighted avg       0.60      0.63      0.61       320\n",
      "\n"
     ]
    },
    {
     "name": "stderr",
     "output_type": "stream",
     "text": [
      "C:\\Users\\USUARIO\\anaconda3\\lib\\site-packages\\sklearn\\metrics\\_classification.py:1272: UndefinedMetricWarning: Precision and F-score are ill-defined and being set to 0.0 in labels with no predicted samples. Use `zero_division` parameter to control this behavior.\n",
      "  _warn_prf(average, modifier, msg_start, len(result))\n"
     ]
    }
   ],
   "source": [
    "Best=ref.ranking_==1\n",
    "K=[]\n",
    "for i in range(0,len(X)):\n",
    "    K.append(X[i][Best])\n",
    "X_new=np.asarray(K)\n",
    "\n",
    "X_train2,X_test2=train_test_split(X_new,test_size=0.2,random_state=1234)\n",
    "scaler2= preprocessing.StandardScaler().fit(X_train2)\n",
    "X_train_scaled2=scaler2.transform(X_train2)\n",
    "X_test_scaled2=scaler2.transform(X_test2)\n",
    "X_test_scaled2\n",
    "\n",
    "# Predicción con los mejores\n",
    "\n",
    "logreg2=LogisticRegression()\n",
    "logreg2.fit(X_train_scaled2,y_train)\n",
    "\n",
    "predict2=logreg2.predict(X_test_scaled2)\n",
    "print(confusion_matrix(y_test,predict2))\n",
    "print(classification_report(y_test,predict2))"
   ]
  },
  {
   "cell_type": "code",
   "execution_count": 11,
   "metadata": {},
   "outputs": [
    {
     "data": {
      "image/png": "[encoded data removed]",
      "text/plain": [
       "<Figure size 432x288 with 1 Axes>"
      ]
     },
     "metadata": {
      "needs_background": "light"
     },
     "output_type": "display_data"
    }
   ],
   "source": [
    "plt.hist([y_test,predict2],label=[\"Valor pronosticado\",\"Valor real\"])\n",
    "plt.title(\"Valor observado vs pronóstico\")\n",
    "plt.ylabel('error')\n",
    "plt.legend(loc=0)\n",
    "plt.show()"
   ]
  }
 ],
 "metadata": {
  "kernelspec": {
   "display_name": "Python 3",
   "language": "python",
   "name": "python3"
  },
  "language_info": {
   "codemirror_mode": {
    "name": "ipython",
    "version": 3
   },
   "file_extension": ".py",
   "mimetype": "text/x-python",
   "name": "python",
   "nbconvert_exporter": "python",
   "pygments_lexer": "ipython3",
   "version": "3.7.6"
  }
 },
 "nbformat": 4,
 "nbformat_minor": 2
}
