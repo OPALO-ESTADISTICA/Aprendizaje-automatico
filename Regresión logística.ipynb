{
 "cells": [
  {
   "cell_type": "markdown",
   "metadata": {},
   "source": [
    "## Regresión logística"
   ]
  },
  {
   "cell_type": "markdown",
   "metadata": {},
   "source": [
    "<div style=\"text-align: justify\"> \n",
    "La regresión logística a diferencia de la regresión lineal no busca predecir un valor numérico, sino que determina la probabilidad de pertenecer de una categoría de acuerdo a los valores de las variables independientes. Otro elemento que diferencia a estas dos regresiones es el supuesto de normalidad, donde la regresión logística estima la probabilidad de ocurrencia de un acontecimiento siguiendo una distribución de probabilidad binomial.\n",
    "</div>\n",
    "    \n",
    "$$odds=\\frac{\\text{Probabilidad de éxito}}{\\text{Probabilidad de fracaso}}\\$$\\\\\n",
    "\n",
    "\n",
    "<div style=\"text-align: justify\">\n",
    "La regresión logística se basa en el logaritmo natural de este cociente, como se muestra en la ecuación, en la que los valores positivos de beta aumentan la probabilidad de ocurrencia\n",
    "</div>\n",
    "    \n",
    "$$\\ln(\\frac{P}{1-P})= \\beta_{0} +\\beta_{1}x_{1}+\\beta_{2}x_{2}+\\beta_{3}x_{3} $$\n",
    "\n"
   ]
  },
  {
   "cell_type": "markdown",
   "metadata": {},
   "source": [
    "### Importar módulos/ paquetes"
   ]
  },
  {
   "cell_type": "code",
   "execution_count": null,
   "metadata": {},
   "outputs": [],
   "source": [
    "import pandas as pd\n",
    "import numpy as np\n",
    "import matplotlib.pyplot as plt\n",
    "import seaborn as sns\n",
    "from sklearn.model_selection import train_test_split\n",
    "from sklearn import preprocessing\n",
    "from sklearn.feature_selection import RFE\n",
    "from sklearn.linear_model import LogisticRegression\n",
    "from sklearn.metrics import classification_report, confusion_matrix"
   ]
  },
  {
   "cell_type": "markdown",
   "metadata": {},
   "source": [
    "### Cargar y preparar conjunto de datos para ajuste del modelo de regresión"
   ]
  },
  {
   "cell_type": "code",
   "execution_count": null,
   "metadata": {},
   "outputs": [],
   "source": [
    "r = \"Automobile per gallon.csv\"\n",
    "datos = pd.read_csv(r,sep=\",\",index_col=0)\n",
    "\n",
    "# Nombre de las variables dependientes e independientes\n",
    "nombres = ['mpg', 'cyl', 'displ', 'hp', 'weight', 'accel', 'yr', 'size',\"origin\"]  "
   ]
  },
  {
   "cell_type": "code",
   "execution_count": 35,
   "metadata": {},
   "outputs": [
    {
     "data": {
      "text/html": [
       "<div>\n",
       "<style scoped>\n",
       "    .dataframe tbody tr th:only-of-type {\n",
       "        vertical-align: middle;\n",
       "    }\n",
       "\n",
       "    .dataframe tbody tr th {\n",
       "        vertical-align: top;\n",
       "    }\n",
       "\n",
       "    .dataframe thead th {\n",
       "        text-align: right;\n",
       "    }\n",
       "</style>\n",
       "<table border=\"1\" class=\"dataframe\">\n",
       "  <thead>\n",
       "    <tr style=\"text-align: right;\">\n",
       "      <th></th>\n",
       "      <th>mpg</th>\n",
       "      <th>cyl</th>\n",
       "      <th>displ</th>\n",
       "      <th>hp</th>\n",
       "      <th>weight</th>\n",
       "      <th>accel</th>\n",
       "      <th>yr</th>\n",
       "      <th>size</th>\n",
       "    </tr>\n",
       "  </thead>\n",
       "  <tbody>\n",
       "    <tr>\n",
       "      <th>count</th>\n",
       "      <td>392.000000</td>\n",
       "      <td>392.000000</td>\n",
       "      <td>392.000000</td>\n",
       "      <td>392.000000</td>\n",
       "      <td>392.000000</td>\n",
       "      <td>392.000000</td>\n",
       "      <td>392.000000</td>\n",
       "      <td>392.000000</td>\n",
       "    </tr>\n",
       "    <tr>\n",
       "      <th>mean</th>\n",
       "      <td>23.445918</td>\n",
       "      <td>5.471939</td>\n",
       "      <td>194.411990</td>\n",
       "      <td>104.469388</td>\n",
       "      <td>2977.584184</td>\n",
       "      <td>15.541327</td>\n",
       "      <td>75.979592</td>\n",
       "      <td>26.626810</td>\n",
       "    </tr>\n",
       "    <tr>\n",
       "      <th>std</th>\n",
       "      <td>7.805007</td>\n",
       "      <td>1.705783</td>\n",
       "      <td>104.644004</td>\n",
       "      <td>38.491160</td>\n",
       "      <td>849.402560</td>\n",
       "      <td>2.758864</td>\n",
       "      <td>3.683737</td>\n",
       "      <td>15.208310</td>\n",
       "    </tr>\n",
       "    <tr>\n",
       "      <th>min</th>\n",
       "      <td>9.000000</td>\n",
       "      <td>3.000000</td>\n",
       "      <td>68.000000</td>\n",
       "      <td>46.000000</td>\n",
       "      <td>1613.000000</td>\n",
       "      <td>8.000000</td>\n",
       "      <td>70.000000</td>\n",
       "      <td>7.227136</td>\n",
       "    </tr>\n",
       "    <tr>\n",
       "      <th>25%</th>\n",
       "      <td>17.000000</td>\n",
       "      <td>4.000000</td>\n",
       "      <td>105.000000</td>\n",
       "      <td>75.000000</td>\n",
       "      <td>2225.250000</td>\n",
       "      <td>13.775000</td>\n",
       "      <td>73.000000</td>\n",
       "      <td>13.754831</td>\n",
       "    </tr>\n",
       "    <tr>\n",
       "      <th>50%</th>\n",
       "      <td>22.750000</td>\n",
       "      <td>4.000000</td>\n",
       "      <td>151.000000</td>\n",
       "      <td>93.500000</td>\n",
       "      <td>2803.500000</td>\n",
       "      <td>15.500000</td>\n",
       "      <td>76.000000</td>\n",
       "      <td>21.832290</td>\n",
       "    </tr>\n",
       "    <tr>\n",
       "      <th>75%</th>\n",
       "      <td>29.000000</td>\n",
       "      <td>8.000000</td>\n",
       "      <td>275.750000</td>\n",
       "      <td>126.000000</td>\n",
       "      <td>3614.750000</td>\n",
       "      <td>17.025000</td>\n",
       "      <td>79.000000</td>\n",
       "      <td>36.295630</td>\n",
       "    </tr>\n",
       "    <tr>\n",
       "      <th>max</th>\n",
       "      <td>46.600000</td>\n",
       "      <td>8.000000</td>\n",
       "      <td>455.000000</td>\n",
       "      <td>230.000000</td>\n",
       "      <td>5140.000000</td>\n",
       "      <td>24.800000</td>\n",
       "      <td>82.000000</td>\n",
       "      <td>73.387778</td>\n",
       "    </tr>\n",
       "  </tbody>\n",
       "</table>\n",
       "</div>"
      ],
      "text/plain": [
       "              mpg         cyl       displ          hp       weight  \\\n",
       "count  392.000000  392.000000  392.000000  392.000000   392.000000   \n",
       "mean    23.445918    5.471939  194.411990  104.469388  2977.584184   \n",
       "std      7.805007    1.705783  104.644004   38.491160   849.402560   \n",
       "min      9.000000    3.000000   68.000000   46.000000  1613.000000   \n",
       "25%     17.000000    4.000000  105.000000   75.000000  2225.250000   \n",
       "50%     22.750000    4.000000  151.000000   93.500000  2803.500000   \n",
       "75%     29.000000    8.000000  275.750000  126.000000  3614.750000   \n",
       "max     46.600000    8.000000  455.000000  230.000000  5140.000000   \n",
       "\n",
       "            accel          yr        size  \n",
       "count  392.000000  392.000000  392.000000  \n",
       "mean    15.541327   75.979592   26.626810  \n",
       "std      2.758864    3.683737   15.208310  \n",
       "min      8.000000   70.000000    7.227136  \n",
       "25%     13.775000   73.000000   13.754831  \n",
       "50%     15.500000   76.000000   21.832290  \n",
       "75%     17.025000   79.000000   36.295630  \n",
       "max     24.800000   82.000000   73.387778  "
      ]
     },
     "execution_count": 35,
     "metadata": {},
     "output_type": "execute_result"
    }
   ],
   "source": [
    "datos.info"
   ]
  },
  {
   "cell_type": "code",
   "execution_count": null,
   "metadata": {},
   "outputs": [],
   "source": [
    "X = datos.drop([\"name\",\"color\",\"marker\",\"origin\"],axis=1).values    # Se especifican las variables independientes\n",
    "y = datos[\"origin\"].values                  # Se especifica la variable dependiente\n",
    "\n",
    "# Se realiza la partición del conjunto de observaciones en un subconjunto para prueba y otro para\n",
    "# entrenamiento. En este caso 80/20\n",
    "\n",
    "# Particionar datos de prueba y entrenamiento\n",
    "X_train,X_test,y_train,y_test = train_test_split(X,y,test_size=0.3)"
   ]
  },
  {
   "cell_type": "code",
   "execution_count": null,
   "metadata": {},
   "outputs": [],
   "source": [
    "# Como parte del pre-procesamiento se escalan o normalizan las observaciones \n",
    "\n",
    "scaler = preprocessing.StandardScaler().fit(X_train) \n",
    "\n",
    "X_train_scaled = scaler.transform(X_train) # Se escalan las observaciones de entrenamiento\n",
    "\n",
    "X_test_scaled = scaler.transform(X_test)   # Se escalan las observaciones de prueba"
   ]
  },
  {
   "cell_type": "markdown",
   "metadata": {},
   "source": [
    "### Entrenamiento del modelo"
   ]
  },
  {
   "cell_type": "code",
   "execution_count": null,
   "metadata": {},
   "outputs": [],
   "source": [
    "logreg = LogisticRegression(max_iter=100) \n",
    "logreg.fit(X_train_scaled,y_train)        # Se ajusta el modelo con los datos de entrenamiento"
   ]
  },
  {
   "cell_type": "code",
   "execution_count": null,
   "metadata": {},
   "outputs": [],
   "source": [
    "# Se crea un data frame para visualizar los datos para cada regresión \n",
    "\n",
    "coef = pd.DataFrame(logreg.coef_, columns=nombres[:-1])\n",
    "print(\"Coeficientes de regresión: \\n\")\n",
    "coef"
   ]
  },
  {
   "cell_type": "markdown",
   "metadata": {},
   "source": [
    "### Prueba y evaluación de desempeño del modelo"
   ]
  },
  {
   "cell_type": "code",
   "execution_count": null,
   "metadata": {},
   "outputs": [],
   "source": [
    "predict = logreg.predict(X_test_scaled)   # Pronósticar nuevas observaciones. Se usan datos de prueba\n",
    "\n",
    "print(confusion_matrix(y_test,predict))       # Imprimir la matriz de confusión\n",
    "print(classification_report(y_test,predict))  # Imprimir un reporte de clasificación"
   ]
  },
  {
   "cell_type": "code",
   "execution_count": null,
   "metadata": {},
   "outputs": [],
   "source": [
    "plt.hist([y_test,predict],label=[\"Valor pronosticado\",\"Valor real\"]) # Histograma de valores pronosticados\n",
    "plt.title(\"Valor observado vs pronóstico\")\n",
    "plt.ylabel('Frecuencia')\n",
    "plt.xlabel(\"Clase\")\n",
    "plt.legend(loc=0)\n",
    "plt.show()"
   ]
  },
  {
   "cell_type": "markdown",
   "metadata": {},
   "source": [
    "### Selección de características"
   ]
  },
  {
   "cell_type": "code",
   "execution_count": 32,
   "metadata": {
    "scrolled": true
   },
   "outputs": [
    {
     "name": "stdout",
     "output_type": "stream",
     "text": [
      "Listado de las variables:\n",
      "        Importancia\n",
      "displ             1\n",
      "hp                1\n",
      "weight            1\n",
      "size              1\n",
      "mpg               2\n",
      "yr                3\n",
      "cyl               4\n",
      "accel             5\n"
     ]
    }
   ],
   "source": [
    "rfe = RFE(logreg)\n",
    "ref = rfe.fit(X_train_scaled,y_train)\n",
    "car = pd.DataFrame(ref.ranking_,index=nombres[:-1],columns=[\"Importancia\"])\n",
    "print(\"Listado de las variables:\")\n",
    "print(car.sort_values(by=\"Importancia\"))"
   ]
  },
  {
   "cell_type": "markdown",
   "metadata": {},
   "source": [
    "Incluyendo las variable identificadas como influyentes"
   ]
  },
  {
   "cell_type": "code",
   "execution_count": null,
   "metadata": {},
   "outputs": [],
   "source": [
    "Best = ref.ranking_ == 1  # Se seleccionan las variables consideradas como las mejores\n",
    "\n",
    "K=[]                      # Se crea una variable para almacenar las que fueron identificadas como las mejores\n",
    "for i in range(0,len(X)):\n",
    "    K.append(X[i][Best])\n",
    "X_new = np.asarray(K)\n",
    "\n",
    "X_train2,X_test2 = train_test_split(X_new,test_size=0.2, random_state=1234)\n",
    "scaler2 = preprocessing.StandardScaler().fit(X_train2)\n",
    "X_train_scaled2 = scaler2.transform(X_train2)\n",
    "X_test_scaled2 = scaler2.transform(X_test2)\n",
    "X_test_scaled2\n",
    "\n",
    "# Predicción con los mejores\n",
    "\n",
    "logreg2 = LogisticRegression()\n",
    "logreg2.fit(X_train_scaled2,y_train)\n",
    "\n",
    "predict2=logreg2.predict(X_test_scaled2)\n",
    "print(confusion_matrix(y_test,predict2))\n",
    "print(classification_report(y_test,predict2))"
   ]
  },
  {
   "cell_type": "code",
   "execution_count": null,
   "metadata": {},
   "outputs": [],
   "source": [
    "plt.hist([y_test,predict2],label=[\"Valor pronosticado\",\"Valor real\"])\n",
    "plt.title(\"Valor observado vs pronóstico\")\n",
    "plt.ylabel('error')\n",
    "plt.legend(loc=0)\n",
    "plt.show()"
   ]
  },
  {
   "cell_type": "code",
   "execution_count": null,
   "metadata": {},
   "outputs": [],
   "source": []
  }
 ],
 "metadata": {
  "kernelspec": {
   "display_name": "Python 3",
   "language": "python",
   "name": "python3"
  },
  "language_info": {
   "codemirror_mode": {
    "name": "ipython",
    "version": 3
   },
   "file_extension": ".py",
   "mimetype": "text/x-python",
   "name": "python",
   "nbconvert_exporter": "python",
   "pygments_lexer": "ipython3",
   "version": "3.8.5"
  }
 },
 "nbformat": 4,
 "nbformat_minor": 2
}
