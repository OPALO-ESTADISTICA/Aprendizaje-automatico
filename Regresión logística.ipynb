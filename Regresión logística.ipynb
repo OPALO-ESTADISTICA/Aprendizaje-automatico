{
 "cells": [
  {
   "cell_type": "markdown",
   "metadata": {},
   "source": [
    "## Regresión logística"
   ]
  },
  {
   "cell_type": "markdown",
   "metadata": {},
   "source": [
    "<div style=\"text-align: justify\"> \n",
    "La regresión logística a diferencia de la regresión lineal no busca predecir un valor numérico, sino que determina la probabilidad de pertenecer de una categoría de acuerdo a los valores de las variables independientes. Otro elemento que diferencia a estas dos regresiones es el supuesto de normalidad, donde la regresión logística estima la probabilidad de ocurrencia de un acontecimiento siguiendo una distribución de probabilidad binomial.\n",
    "</div>\n",
    "    \n",
    "$$odds=\\frac{\\text{Probabilidad de éxito}}{\\text{Probabilidad de fracaso}}\\$$\\\n",
    "\n",
    "\n",
    "<div style=\"text-align: justify\">\n",
    "La regresión logística se basa en el algoritmo natural de este cociente, como se muestra en la ecuación 3, en la que los valores positivos de beta aumentan la probabilidad de ocurrencia\n",
    "</div>\n",
    "    \n",
    "$$\\ln(\\frac{P}{1-P})= \\beta_{0} +\\beta_{1}x_{1}+\\beta_{2}x_{2}+\\beta_{3}x_{3} $$\n",
    "\n"
   ]
  },
  {
   "cell_type": "markdown",
   "metadata": {},
   "source": [
    "### Importar módulos/ paquetes"
   ]
  },
  {
   "cell_type": "code",
   "execution_count": 1,
   "metadata": {},
   "outputs": [],
   "source": [
    "import pandas as pd\n",
    "import numpy as np\n",
    "import matplotlib.pyplot as plt\n",
    "import seaborn as sns\n",
    "from sklearn.model_selection import train_test_split\n",
    "from sklearn import preprocessing\n",
    "from sklearn.feature_selection import RFE\n",
    "from sklearn.linear_model import LogisticRegression\n",
    "from sklearn.metrics import classification_report, confusion_matrix\n",
    "from imblearn.over_sampling import RandomOverSampler"
   ]
  },
  {
   "cell_type": "markdown",
   "metadata": {},
   "source": [
    "### Cargar y preparar conjunto de datos para ajuste del modelo de regresión"
   ]
  },
  {
   "cell_type": "code",
   "execution_count": 2,
   "metadata": {},
   "outputs": [],
   "source": [
    "r = \"winequality-red.csv\"\n",
    "datos = pd.read_csv(r,sep=\";\")\n",
    "nombres = datos.columns       # Nombre de las variables dependientes e independientes"
   ]
  },
  {
   "cell_type": "code",
   "execution_count": 3,
   "metadata": {},
   "outputs": [],
   "source": [
    "X = datos.drop([\"quality\"],axis=1).values    # Se especifican las variables independientes\n",
    "y = datos[\"quality\"].values                  # Se especifica la variable dependiente\n",
    "\n",
    "ros = RandomOverSampler(random_state=1201)\n",
    "X_resampled, y_resampled = ros.fit_resample(X,y)\n",
    "\n",
    "# Se realiza la partición del conjunto de observaciones en un subconjunto para prueba y otro para\n",
    "# entrenamiento. En este caso 80/20\n",
    "\n",
    "X_train,X_test,y_train,y_test=train_test_split(X_resampled,y_resampled,test_size=0.2, random_state=0)"
   ]
  },
  {
   "cell_type": "code",
   "execution_count": 4,
   "metadata": {},
   "outputs": [],
   "source": [
    "# Como parte del pre-procesamiento se escalan o normalizan las observaciones \n",
    "\n",
    "scaler = preprocessing.StandardScaler().fit(X_train) \n",
    "\n",
    "X_train_scaled = scaler.transform(X_train) # Se escalan las observaciones de entrenamiento\n",
    "\n",
    "X_test_scaled = scaler.transform(X_test)   # Se escalan las observaciones de prueba"
   ]
  },
  {
   "cell_type": "markdown",
   "metadata": {},
   "source": [
    "### Entrenamiento del modelo"
   ]
  },
  {
   "cell_type": "code",
   "execution_count": 5,
   "metadata": {},
   "outputs": [
    {
     "data": {
      "text/plain": [
       "LogisticRegression()"
      ]
     },
     "execution_count": 5,
     "metadata": {},
     "output_type": "execute_result"
    }
   ],
   "source": [
    "logreg = LogisticRegression(max_iter=100) \n",
    "logreg.fit(X_train_scaled,y_train)        # Se ajusta el modelo con los datos de entrenamiento"
   ]
  },
  {
   "cell_type": "code",
   "execution_count": 6,
   "metadata": {},
   "outputs": [
    {
     "name": "stdout",
     "output_type": "stream",
     "text": [
      "Coeficientes de regresión: \n",
      "\n"
     ]
    },
    {
     "data": {
      "text/html": [
       "<div>\n",
       "<style scoped>\n",
       "    .dataframe tbody tr th:only-of-type {\n",
       "        vertical-align: middle;\n",
       "    }\n",
       "\n",
       "    .dataframe tbody tr th {\n",
       "        vertical-align: top;\n",
       "    }\n",
       "\n",
       "    .dataframe thead th {\n",
       "        text-align: right;\n",
       "    }\n",
       "</style>\n",
       "<table border=\"1\" class=\"dataframe\">\n",
       "  <thead>\n",
       "    <tr style=\"text-align: right;\">\n",
       "      <th></th>\n",
       "      <th>fixed acidity</th>\n",
       "      <th>volatile acidity</th>\n",
       "      <th>citric acid</th>\n",
       "      <th>residual sugar</th>\n",
       "      <th>chlorides</th>\n",
       "      <th>free sulfur dioxide</th>\n",
       "      <th>total sulfur dioxide</th>\n",
       "      <th>density</th>\n",
       "      <th>pH</th>\n",
       "      <th>sulphates</th>\n",
       "      <th>alcohol</th>\n",
       "    </tr>\n",
       "  </thead>\n",
       "  <tbody>\n",
       "    <tr>\n",
       "      <th>3</th>\n",
       "      <td>0.876526</td>\n",
       "      <td>2.669661</td>\n",
       "      <td>0.483606</td>\n",
       "      <td>0.061600</td>\n",
       "      <td>1.224092</td>\n",
       "      <td>1.172577</td>\n",
       "      <td>-2.202914</td>\n",
       "      <td>0.592794</td>\n",
       "      <td>1.769776</td>\n",
       "      <td>-0.659254</td>\n",
       "      <td>-2.641594</td>\n",
       "    </tr>\n",
       "    <tr>\n",
       "      <th>4</th>\n",
       "      <td>0.720761</td>\n",
       "      <td>0.691302</td>\n",
       "      <td>-0.081585</td>\n",
       "      <td>0.422284</td>\n",
       "      <td>0.535882</td>\n",
       "      <td>-0.565523</td>\n",
       "      <td>0.580915</td>\n",
       "      <td>-1.044528</td>\n",
       "      <td>0.657932</td>\n",
       "      <td>-0.295622</td>\n",
       "      <td>-0.979534</td>\n",
       "    </tr>\n",
       "    <tr>\n",
       "      <th>5</th>\n",
       "      <td>-0.576935</td>\n",
       "      <td>-0.493022</td>\n",
       "      <td>-0.367340</td>\n",
       "      <td>-0.243100</td>\n",
       "      <td>0.510962</td>\n",
       "      <td>-0.353818</td>\n",
       "      <td>1.093614</td>\n",
       "      <td>0.533082</td>\n",
       "      <td>-0.231352</td>\n",
       "      <td>-0.596926</td>\n",
       "      <td>-0.463161</td>\n",
       "    </tr>\n",
       "    <tr>\n",
       "      <th>6</th>\n",
       "      <td>-0.438420</td>\n",
       "      <td>-1.100001</td>\n",
       "      <td>-0.551637</td>\n",
       "      <td>-0.193336</td>\n",
       "      <td>0.159923</td>\n",
       "      <td>-0.106589</td>\n",
       "      <td>0.571111</td>\n",
       "      <td>0.473920</td>\n",
       "      <td>-0.385252</td>\n",
       "      <td>-0.107214</td>\n",
       "      <td>0.561471</td>\n",
       "    </tr>\n",
       "    <tr>\n",
       "      <th>7</th>\n",
       "      <td>0.304254</td>\n",
       "      <td>-1.568147</td>\n",
       "      <td>-0.348135</td>\n",
       "      <td>0.119509</td>\n",
       "      <td>-0.196689</td>\n",
       "      <td>-0.188843</td>\n",
       "      <td>0.289300</td>\n",
       "      <td>-0.350258</td>\n",
       "      <td>-0.158393</td>\n",
       "      <td>0.577198</td>\n",
       "      <td>1.070412</td>\n",
       "    </tr>\n",
       "    <tr>\n",
       "      <th>8</th>\n",
       "      <td>-0.886185</td>\n",
       "      <td>-0.199794</td>\n",
       "      <td>0.865091</td>\n",
       "      <td>-0.166957</td>\n",
       "      <td>-2.234169</td>\n",
       "      <td>0.042195</td>\n",
       "      <td>-0.332026</td>\n",
       "      <td>-0.205010</td>\n",
       "      <td>-1.652712</td>\n",
       "      <td>1.081818</td>\n",
       "      <td>2.452406</td>\n",
       "    </tr>\n",
       "  </tbody>\n",
       "</table>\n",
       "</div>"
      ],
      "text/plain": [
       "   fixed acidity  volatile acidity  citric acid  residual sugar  chlorides  \\\n",
       "3       0.876526          2.669661     0.483606        0.061600   1.224092   \n",
       "4       0.720761          0.691302    -0.081585        0.422284   0.535882   \n",
       "5      -0.576935         -0.493022    -0.367340       -0.243100   0.510962   \n",
       "6      -0.438420         -1.100001    -0.551637       -0.193336   0.159923   \n",
       "7       0.304254         -1.568147    -0.348135        0.119509  -0.196689   \n",
       "8      -0.886185         -0.199794     0.865091       -0.166957  -2.234169   \n",
       "\n",
       "   free sulfur dioxide  total sulfur dioxide   density        pH  sulphates  \\\n",
       "3             1.172577             -2.202914  0.592794  1.769776  -0.659254   \n",
       "4            -0.565523              0.580915 -1.044528  0.657932  -0.295622   \n",
       "5            -0.353818              1.093614  0.533082 -0.231352  -0.596926   \n",
       "6            -0.106589              0.571111  0.473920 -0.385252  -0.107214   \n",
       "7            -0.188843              0.289300 -0.350258 -0.158393   0.577198   \n",
       "8             0.042195             -0.332026 -0.205010 -1.652712   1.081818   \n",
       "\n",
       "    alcohol  \n",
       "3 -2.641594  \n",
       "4 -0.979534  \n",
       "5 -0.463161  \n",
       "6  0.561471  \n",
       "7  1.070412  \n",
       "8  2.452406  "
      ]
     },
     "execution_count": 6,
     "metadata": {},
     "output_type": "execute_result"
    }
   ],
   "source": [
    "# Se crea un data frame para visualizar los datos para cada regresión \n",
    "\n",
    "coef = pd.DataFrame(logreg.coef_, columns=nombres[:-1],index=[3,4,5,6,7,8])\n",
    "print(\"Coeficientes de regresión: \\n\")\n",
    "coef"
   ]
  },
  {
   "cell_type": "markdown",
   "metadata": {},
   "source": [
    "### Prueba y evaluación de desempeño del modelo"
   ]
  },
  {
   "cell_type": "code",
   "execution_count": 7,
   "metadata": {},
   "outputs": [
    {
     "name": "stdout",
     "output_type": "stream",
     "text": [
      "[[95 31  0  0  0  0]\n",
      " [24 66 25  7  4  1]\n",
      " [16 25 76 21  9  3]\n",
      " [ 6 15 34 46 31 13]\n",
      " [ 0  4  4 22 59 43]\n",
      " [ 0  0  0  0 46 92]]\n",
      "              precision    recall  f1-score   support\n",
      "\n",
      "           3       0.67      0.75      0.71       126\n",
      "           4       0.47      0.52      0.49       127\n",
      "           5       0.55      0.51      0.53       150\n",
      "           6       0.48      0.32      0.38       145\n",
      "           7       0.40      0.45      0.42       132\n",
      "           8       0.61      0.67      0.63       138\n",
      "\n",
      "    accuracy                           0.53       818\n",
      "   macro avg       0.53      0.54      0.53       818\n",
      "weighted avg       0.53      0.53      0.52       818\n",
      "\n"
     ]
    }
   ],
   "source": [
    "predict = logreg.predict(X_test_scaled)   # Pronósticar nuevas observaciones. Se usan datos de prueba\n",
    "\n",
    "print(confusion_matrix(y_test,predict))       # Imprimir la matriz de confusión\n",
    "print(classification_report(y_test,predict))  # Imprimir un reporte de clasificación"
   ]
  },
  {
   "cell_type": "code",
   "execution_count": 8,
   "metadata": {},
   "outputs": [
    {
     "data": {
      "image/png": "[encoded data removed]",
      "text/plain": [
       "<Figure size 432x288 with 1 Axes>"
      ]
     },
     "metadata": {
      "needs_background": "light"
     },
     "output_type": "display_data"
    }
   ],
   "source": [
    "plt.hist([y_test,predict],label=[\"Valor pronosticado\",\"Valor real\"]) # Histograma de valores pronosticados\n",
    "plt.title(\"Valor observado vs pronóstico\")\n",
    "plt.ylabel('Frecuencia')\n",
    "plt.xlabel(\"Clase\")\n",
    "plt.legend(loc=0)\n",
    "plt.show()"
   ]
  },
  {
   "cell_type": "markdown",
   "metadata": {},
   "source": [
    "### Selección de características"
   ]
  },
  {
   "cell_type": "code",
   "execution_count": 9,
   "metadata": {
    "scrolled": true
   },
   "outputs": [
    {
     "name": "stdout",
     "output_type": "stream",
     "text": [
      "Listado de las variables:\n",
      "                      Importancia\n",
      "fixed acidity                   1\n",
      "volatile acidity                1\n",
      "chlorides                       1\n",
      "pH                              1\n",
      "alcohol                         1\n",
      "sulphates                       2\n",
      "total sulfur dioxide            3\n",
      "free sulfur dioxide             4\n",
      "citric acid                     5\n",
      "density                         6\n",
      "residual sugar                  7\n"
     ]
    }
   ],
   "source": [
    "rfe = RFE(logreg)\n",
    "ref = rfe.fit(X_train_scaled,y_train)\n",
    "car = pd.DataFrame(ref.ranking_,index=nombres[:-1],columns=[\"Importancia\"])\n",
    "print(\"Listado de las variables:\")\n",
    "print(car.sort_values(by=\"Importancia\"))"
   ]
  },
  {
   "cell_type": "markdown",
   "metadata": {},
   "source": [
    "Incluyendo las variable identificadas como influyentes"
   ]
  },
  {
   "cell_type": "code",
   "execution_count": 12,
   "metadata": {},
   "outputs": [
    {
     "name": "stdout",
     "output_type": "stream",
     "text": [
      "[[27 37  4  3 48  7]\n",
      " [26 44  3  4 43  7]\n",
      " [33 49  2  3 54  9]\n",
      " [41 44  6  4 42  8]\n",
      " [31 51  2  5 39  4]\n",
      " [25 52  3  6 46  6]]\n",
      "              precision    recall  f1-score   support\n",
      "\n",
      "           3       0.15      0.21      0.17       126\n",
      "           4       0.16      0.35      0.22       127\n",
      "           5       0.10      0.01      0.02       150\n",
      "           6       0.16      0.03      0.05       145\n",
      "           7       0.14      0.30      0.19       132\n",
      "           8       0.15      0.04      0.07       138\n",
      "\n",
      "    accuracy                           0.15       818\n",
      "   macro avg       0.14      0.16      0.12       818\n",
      "weighted avg       0.14      0.15      0.12       818\n",
      "\n"
     ]
    }
   ],
   "source": [
    "Best = ref.ranking_ == 1  # Se seleccionan las variables consideradas como las mejores\n",
    "\n",
    "K=[]                      # Se crea una variable para almacenar las que fueron identificadas como las mejores\n",
    "for i in range(0,len(X_resampled)):\n",
    "    K.append(X_resampled[i][Best])\n",
    "X_new = np.asarray(K)\n",
    "\n",
    "X_train2,X_test2 = train_test_split(X_new,test_size=0.2, random_state=1234)\n",
    "scaler2 = preprocessing.StandardScaler().fit(X_train2)\n",
    "X_train_scaled2 = scaler2.transform(X_train2)\n",
    "X_test_scaled2 = scaler2.transform(X_test2)\n",
    "X_test_scaled2\n",
    "\n",
    "# Predicción con los mejores\n",
    "\n",
    "logreg2 = LogisticRegression()\n",
    "logreg2.fit(X_train_scaled2,y_train)\n",
    "\n",
    "predict2=logreg2.predict(X_test_scaled2)\n",
    "print(confusion_matrix(y_test,predict2))\n",
    "print(classification_report(y_test,predict2))"
   ]
  },
  {
   "cell_type": "code",
   "execution_count": 13,
   "metadata": {},
   "outputs": [
    {
     "data": {
      "image/png": "[encoded data removed]",
      "text/plain": [
       "<Figure size 432x288 with 1 Axes>"
      ]
     },
     "metadata": {
      "needs_background": "light"
     },
     "output_type": "display_data"
    }
   ],
   "source": [
    "plt.hist([y_test,predict2],label=[\"Valor pronosticado\",\"Valor real\"])\n",
    "plt.title(\"Valor observado vs pronóstico\")\n",
    "plt.ylabel('error')\n",
    "plt.legend(loc=0)\n",
    "plt.show()"
   ]
  },
  {
   "cell_type": "code",
   "execution_count": null,
   "metadata": {},
   "outputs": [],
   "source": []
  }
 ],
 "metadata": {
  "kernelspec": {
   "display_name": "Python 3",
   "language": "python",
   "name": "python3"
  },
  "language_info": {
   "codemirror_mode": {
    "name": "ipython",
    "version": 3
   },
   "file_extension": ".py",
   "mimetype": "text/x-python",
   "name": "python",
   "nbconvert_exporter": "python",
   "pygments_lexer": "ipython3",
   "version": "3.7.6"
  }
 },
 "nbformat": 4,
 "nbformat_minor": 2
}
