{
 "cells": [
  {
   "cell_type": "code",
   "execution_count": 33,
   "metadata": {},
   "outputs": [],
   "source": [
    "import numpy as np\n",
    "import pandas as pd\n",
    "from sklearn import tree\n",
    "from sklearn.tree import DecisionTreeClassifier\n",
    "from sklearn.metrics import classification_report, confusion_matrix, accuracy_score\n",
    "import matplotlib.pyplot as plt\n",
    "from sklearn import preprocessing\n",
    "from sklearn.model_selection import train_test_split\n",
    "import seaborn as sns"
   ]
  },
  {
   "cell_type": "markdown",
   "metadata": {},
   "source": [
    "## Contexto\n",
    "\n",
    "Los datos fueron recolectados y dispuestos por “National Institute of Diabetes and Digestive and Kidney Diseases”. El conjunto de datos a sido filtrado y se han seleccionado instancias para evaluar pacientes pertenecientes al grupo indígena Pima (subgrupo de nativos Americanos).\n",
    "\n",
    "Se consideran las siguientes variable para evaluar si un paciente tiene diabetes o no:\n",
    "\n",
    "* **embarazo**: Número de embarazos\n",
    "* **glucosa**: Concentración de glucosa en una prueba de tolerancia oral\n",
    "* **bp**: Presión sanguínea (mmHg)\n",
    "* **piel**: Espesor del pliegue cutáneo del tríceps (mm)\n",
    "* **insulina**: Insulina en la sangre\n",
    "* **bmi**: Indice de masa muscular\n",
    "* **linaje**: Linaje de diabetes familar\n",
    "* **edad**: Años\n",
    "* **label**: Etiqueta 1 si tiene diabetes 0 si no"
   ]
  },
  {
   "cell_type": "markdown",
   "metadata": {},
   "source": [
    "### Importar datos y definir variables"
   ]
  },
  {
   "cell_type": "code",
   "execution_count": 32,
   "metadata": {},
   "outputs": [
    {
     "data": {
      "text/html": [
       "<div>\n",
       "<style scoped>\n",
       "    .dataframe tbody tr th:only-of-type {\n",
       "        vertical-align: middle;\n",
       "    }\n",
       "\n",
       "    .dataframe tbody tr th {\n",
       "        vertical-align: top;\n",
       "    }\n",
       "\n",
       "    .dataframe thead th {\n",
       "        text-align: right;\n",
       "    }\n",
       "</style>\n",
       "<table border=\"1\" class=\"dataframe\">\n",
       "  <thead>\n",
       "    <tr style=\"text-align: right;\">\n",
       "      <th></th>\n",
       "      <th>embarazo</th>\n",
       "      <th>glucosa</th>\n",
       "      <th>bp</th>\n",
       "      <th>piel</th>\n",
       "      <th>insulina</th>\n",
       "      <th>bmi</th>\n",
       "      <th>linaje</th>\n",
       "      <th>edad</th>\n",
       "      <th>label</th>\n",
       "    </tr>\n",
       "  </thead>\n",
       "  <tbody>\n",
       "    <tr>\n",
       "      <th>0</th>\n",
       "      <td>6</td>\n",
       "      <td>148</td>\n",
       "      <td>72</td>\n",
       "      <td>35</td>\n",
       "      <td>0</td>\n",
       "      <td>33.6</td>\n",
       "      <td>0.627</td>\n",
       "      <td>50</td>\n",
       "      <td>1</td>\n",
       "    </tr>\n",
       "    <tr>\n",
       "      <th>1</th>\n",
       "      <td>1</td>\n",
       "      <td>85</td>\n",
       "      <td>66</td>\n",
       "      <td>29</td>\n",
       "      <td>0</td>\n",
       "      <td>26.6</td>\n",
       "      <td>0.351</td>\n",
       "      <td>31</td>\n",
       "      <td>0</td>\n",
       "    </tr>\n",
       "    <tr>\n",
       "      <th>2</th>\n",
       "      <td>8</td>\n",
       "      <td>183</td>\n",
       "      <td>64</td>\n",
       "      <td>0</td>\n",
       "      <td>0</td>\n",
       "      <td>23.3</td>\n",
       "      <td>0.672</td>\n",
       "      <td>32</td>\n",
       "      <td>1</td>\n",
       "    </tr>\n",
       "    <tr>\n",
       "      <th>3</th>\n",
       "      <td>1</td>\n",
       "      <td>89</td>\n",
       "      <td>66</td>\n",
       "      <td>23</td>\n",
       "      <td>94</td>\n",
       "      <td>28.1</td>\n",
       "      <td>0.167</td>\n",
       "      <td>21</td>\n",
       "      <td>0</td>\n",
       "    </tr>\n",
       "    <tr>\n",
       "      <th>4</th>\n",
       "      <td>0</td>\n",
       "      <td>137</td>\n",
       "      <td>40</td>\n",
       "      <td>35</td>\n",
       "      <td>168</td>\n",
       "      <td>43.1</td>\n",
       "      <td>2.288</td>\n",
       "      <td>33</td>\n",
       "      <td>1</td>\n",
       "    </tr>\n",
       "  </tbody>\n",
       "</table>\n",
       "</div>"
      ],
      "text/plain": [
       "   embarazo  glucosa  bp  piel  insulina   bmi  linaje  edad  label\n",
       "0         6      148  72    35         0  33.6   0.627    50      1\n",
       "1         1       85  66    29         0  26.6   0.351    31      0\n",
       "2         8      183  64     0         0  23.3   0.672    32      1\n",
       "3         1       89  66    23        94  28.1   0.167    21      0\n",
       "4         0      137  40    35       168  43.1   2.288    33      1"
      ]
     },
     "execution_count": 32,
     "metadata": {},
     "output_type": "execute_result"
    }
   ],
   "source": [
    "r = \"pima-indians-diabetes.csv\"\n",
    "col_names = ['embarazo', 'glucosa', 'bp', 'piel', 'insulina', 'bmi', 'linaje', 'edad', 'label']\n",
    "datos = pd.read_csv(r,sep=\",\", header=None, names=col_names)\n",
    "datos.head()"
   ]
  },
  {
   "cell_type": "markdown",
   "metadata": {},
   "source": [
    "### Exploración de datos"
   ]
  },
  {
   "cell_type": "code",
   "execution_count": 35,
   "metadata": {},
   "outputs": [
    {
     "data": {
      "image/png": "[encoded data removed]",
      "text/plain": [
       "<Figure size 432x288 with 2 Axes>"
      ]
     },
     "metadata": {
      "needs_background": "light"
     },
     "output_type": "display_data"
    }
   ],
   "source": [
    "corr = datos.corr()\n",
    "sns.heatmap(corr, xticklabels=corr.columns, \n",
    "         yticklabels=corr.columns)\n",
    "plt.show()"
   ]
  },
  {
   "cell_type": "code",
   "execution_count": 44,
   "metadata": {},
   "outputs": [
    {
     "data": {
      "image/png": "[encoded data removed]",
      "text/plain": [
       "<Figure size 432x288 with 1 Axes>"
      ]
     },
     "metadata": {
      "needs_background": "light"
     },
     "output_type": "display_data"
    }
   ],
   "source": [
    "Data = pd.DataFrame(np.array([[0,500],[1,268]]),columns=[\"label\",\"Conteo\"])\n",
    "sns.barplot(x=\"label\", y=\"Conteo\", data=Data)\n",
    "plt.show()"
   ]
  },
  {
   "cell_type": "code",
   "execution_count": 159,
   "metadata": {},
   "outputs": [],
   "source": [
    "# Seleccionar variables independiente\n",
    "X = datos.drop([\"label\"],axis=1)\n",
    "nombres = X.columns\n",
    "\n",
    "# Seleccionar variables dependientes\n",
    "y = datos[\"label\"]\n",
    "\n",
    "# Particionar datos de prueba y entrenamiento\n",
    "X_train,X_test,y_train,y_test = train_test_split(X,y,test_size=0.3)"
   ]
  },
  {
   "cell_type": "markdown",
   "metadata": {},
   "source": [
    "### Generación del árbol"
   ]
  },
  {
   "cell_type": "code",
   "execution_count": 182,
   "metadata": {},
   "outputs": [
    {
     "name": "stdout",
     "output_type": "stream",
     "text": [
      "              precision    recall  f1-score   support\n",
      "\n",
      "           0       0.68      0.94      0.79       142\n",
      "           1       0.76      0.28      0.41        89\n",
      "\n",
      "    accuracy                           0.69       231\n",
      "   macro avg       0.72      0.61      0.60       231\n",
      "weighted avg       0.71      0.69      0.64       231\n",
      "\n"
     ]
    }
   ],
   "source": [
    "Dtree = DecisionTreeClassifier(criterion=\"gini\", max_depth=4, splitter=\"random\")\n",
    "Dtree.fit(X_train, y_train)\n",
    "\n",
    "with open(\"arbol_1.dot\",\"w\") as f:\n",
    "    f = tree.export_graphviz(Dtree, out_file=f, filled=True, special_characters=True,\n",
    "                            feature_names = nombres,class_names=['0','1'])\n",
    "\n",
    "Predict = Dtree.predict(X_test)    \n",
    "print(classification_report(y_test,Predict))"
   ]
  },
  {
   "cell_type": "markdown",
   "metadata": {},
   "source": [
    "### Evaluación de desempeño"
   ]
  },
  {
   "cell_type": "code",
   "execution_count": 51,
   "metadata": {},
   "outputs": [
    {
     "name": "stdout",
     "output_type": "stream",
     "text": [
      "[[124  22]\n",
      " [ 31  54]]\n",
      "              precision    recall  f1-score   support\n",
      "\n",
      "           0       0.80      0.85      0.82       146\n",
      "           1       0.71      0.64      0.67        85\n",
      "\n",
      "    accuracy                           0.77       231\n",
      "   macro avg       0.76      0.74      0.75       231\n",
      "weighted avg       0.77      0.77      0.77       231\n",
      "\n"
     ]
    }
   ],
   "source": [
    "print(confusion_matrix(y_test,Predict))\n",
    "print(classification_report(y_test,Predict))"
   ]
  },
  {
   "cell_type": "markdown",
   "metadata": {},
   "source": [
    "### Pronóstico con valores de prueba"
   ]
  },
  {
   "cell_type": "code",
   "execution_count": 31,
   "metadata": {},
   "outputs": [
    {
     "name": "stdout",
     "output_type": "stream",
     "text": [
      "Diabetes pornósticada y observada:\n",
      " Diabetes 0 : 155 - 146\n",
      " Diabetes 1 : 76 - 85\n"
     ]
    }
   ],
   "source": [
    "Predict = Dtree.predict(X_test)\n",
    "\n",
    "Pronos=[]\n",
    "Observ=[]\n",
    "\n",
    "# Se crea un contador para saber el número de veces que una clase es pronosticada\n",
    "for i in range(0,2):\n",
    "    p = 0\n",
    "    for j in Predict:\n",
    "        if i == j:\n",
    "            p += 1\n",
    "    Pronos.append(p)\n",
    "    \n",
    "# Se crea un contador para saber el número de veces que una clase es observada\n",
    "for i in range(0,2):\n",
    "    o = 0\n",
    "    for j in y_test:\n",
    "        if i == j:\n",
    "            o += 1\n",
    "    Observ.append(o)\n",
    "\n",
    "print(\"Diabetes pornósticada y observada:\")\n",
    "for i in range(len(Pronos)):\n",
    "    print(\" Diabetes %s : %s - %s\" %(i,Pronos[i],Observ[i]))\n"
   ]
  },
  {
   "cell_type": "markdown",
   "metadata": {},
   "source": [
    "### Importancia de variables"
   ]
  },
  {
   "cell_type": "code",
   "execution_count": 25,
   "metadata": {},
   "outputs": [
    {
     "name": "stdout",
     "output_type": "stream",
     "text": [
      "Importancia de las variables:\n"
     ]
    },
    {
     "data": {
      "text/html": [
       "<div>\n",
       "<style scoped>\n",
       "    .dataframe tbody tr th:only-of-type {\n",
       "        vertical-align: middle;\n",
       "    }\n",
       "\n",
       "    .dataframe tbody tr th {\n",
       "        vertical-align: top;\n",
       "    }\n",
       "\n",
       "    .dataframe thead th {\n",
       "        text-align: right;\n",
       "    }\n",
       "</style>\n",
       "<table border=\"1\" class=\"dataframe\">\n",
       "  <thead>\n",
       "    <tr style=\"text-align: right;\">\n",
       "      <th></th>\n",
       "      <th>Variable</th>\n",
       "      <th>Importancia de Gini</th>\n",
       "    </tr>\n",
       "  </thead>\n",
       "  <tbody>\n",
       "    <tr>\n",
       "      <th>1</th>\n",
       "      <td>glucose</td>\n",
       "      <td>0.562837</td>\n",
       "    </tr>\n",
       "    <tr>\n",
       "      <th>0</th>\n",
       "      <td>pregnant</td>\n",
       "      <td>0.000000</td>\n",
       "    </tr>\n",
       "    <tr>\n",
       "      <th>2</th>\n",
       "      <td>bp</td>\n",
       "      <td>0.000000</td>\n",
       "    </tr>\n",
       "    <tr>\n",
       "      <th>3</th>\n",
       "      <td>skin</td>\n",
       "      <td>0.000000</td>\n",
       "    </tr>\n",
       "  </tbody>\n",
       "</table>\n",
       "</div>"
      ],
      "text/plain": [
       "   Variable  Importancia de Gini\n",
       "1   glucose             0.562837\n",
       "0  pregnant             0.000000\n",
       "2        bp             0.000000\n",
       "3      skin             0.000000"
      ]
     },
     "execution_count": 25,
     "metadata": {},
     "output_type": "execute_result"
    }
   ],
   "source": [
    "b = Dtree.feature_importances_\n",
    "a = []\n",
    "for i in range(4):\n",
    "    a.append(b[i])\n",
    "impor = pd.DataFrame(list(zip(nombres,a)),columns=[\"Variable\",\"Importancia de Gini\"])\n",
    "\n",
    "print(\"Importancia de las variables:\")\n",
    "impor.sort_values(by=\"Importancia de Gini\",ascending=False).head()"
   ]
  },
  {
   "cell_type": "code",
   "execution_count": 27,
   "metadata": {},
   "outputs": [
    {
     "name": "stdout",
     "output_type": "stream",
     "text": [
      "El 77.06% de los vinos estuvieron bien clasificados\n"
     ]
    }
   ],
   "source": [
    "Pronos = np.asarray(Pronos)\n",
    "Observ = np.asarray(Observ)\n",
    "A = y_test==Predict\n",
    "V_count = 0\n",
    "\n",
    "for i in A:\n",
    "    if i==True:\n",
    "        V_count+=1\n",
    "        \n",
    "Prev = V_count/len(Predict) # prev...alencia\n",
    "print(\"El %.2f\"%(Prev*100) + \"% de los vinos estuvieron bien clasificados\")"
   ]
  }
 ],
 "metadata": {
  "kernelspec": {
   "display_name": "Python 3",
   "language": "python",
   "name": "python3"
  },
  "language_info": {
   "codemirror_mode": {
    "name": "ipython",
    "version": 3
   },
   "file_extension": ".py",
   "mimetype": "text/x-python",
   "name": "python",
   "nbconvert_exporter": "python",
   "pygments_lexer": "ipython3",
   "version": "3.8.8"
  }
 },
 "nbformat": 4,
 "nbformat_minor": 2
}
