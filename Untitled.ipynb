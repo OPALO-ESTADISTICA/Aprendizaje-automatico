{
 "cells": [
  {
   "cell_type": "code",
   "execution_count": null,
   "id": "86d002ee",
   "metadata": {},
   "outputs": [],
   "source": [
    "X = datos.drop([\"name\",\"color\",\"marker\",\"origin\"],axis=1).values    # Se especifican las variables independientes\n",
    "y = datos[\"origin\"].values                  # Se especifica la variable dependiente\n",
    "\n",
    "# Se realiza la partición del conjunto de observaciones en un subconjunto para prueba y otro para\n",
    "# entrenamiento. En este caso 80/20\n",
    "\n",
    "# Particionar datos de prueba y entrenamiento\n",
    "X_train,X_test,y_train,y_test = train_test_split(X,y,test_size=0.3)"
   ]
  },
  {
   "cell_type": "markdown",
   "id": "a7bd3e7c",
   "metadata": {},
   "source": [
    "### Entrenamiento del modelo"
   ]
  },
  {
   "cell_type": "code",
   "execution_count": null,
   "id": "bdfc65a7",
   "metadata": {},
   "outputs": [],
   "source": [
    "logreg = LogisticRegression(max_iter=100) \n",
    "logreg.fit(X_train_scaled,y_train)        # Se ajusta el modelo con los datos de entrenamiento"
   ]
  },
  {
   "cell_type": "code",
   "execution_count": null,
   "id": "fb3ff6e3",
   "metadata": {},
   "outputs": [],
   "source": [
    "# Se crea un data frame para visualizar los datos para cada regresión \n",
    "\n",
    "coef = pd.DataFrame(logreg.coef_, columns=nombres[:-1])\n",
    "print(\"Coeficientes de regresión: \\n\")\n",
    "coef"
   ]
  },
  {
   "cell_type": "markdown",
   "id": "4086ef33",
   "metadata": {},
   "source": [
    "### Prueba y evaluación de desempeño del modelo"
   ]
  },
  {
   "cell_type": "code",
   "execution_count": null,
   "id": "89ebd5aa",
   "metadata": {},
   "outputs": [],
   "source": [
    "predict = logreg.predict(X_test_scaled)   # Pronósticar nuevas observaciones. Se usan datos de prueba\n",
    "\n",
    "print(confusion_matrix(y_test,predict))       # Imprimir la matriz de confusión\n",
    "print(classification_report(y_test,predict))  # Imprimir un reporte de clasificación"
   ]
  },
  {
   "cell_type": "code",
   "execution_count": null,
   "id": "bdfbc5ca",
   "metadata": {},
   "outputs": [],
   "source": [
    "plt.hist([y_test,predict],label=[\"Valor pronosticado\",\"Valor real\"]) # Histograma de valores pronosticados\n",
    "plt.title(\"Valor observado vs pronóstico\")\n",
    "plt.ylabel('Frecuencia')\n",
    "plt.xlabel(\"Clase\")\n",
    "plt.legend(loc=0)\n",
    "plt.show()"
   ]
  },
  {
   "cell_type": "markdown",
   "id": "24f6f8fa",
   "metadata": {},
   "source": [
    "### Selección de características"
   ]
  },
  {
   "cell_type": "code",
   "execution_count": 32,
   "id": "b4495e92",
   "metadata": {
    "scrolled": true
   },
   "outputs": [
    {
     "name": "stdout",
     "output_type": "stream",
     "text": [
      "Listado de las variables:\n",
      "        Importancia\n",
      "displ             1\n",
      "hp                1\n",
      "weight            1\n",
      "size              1\n",
      "mpg               2\n",
      "yr                3\n",
      "cyl               4\n",
      "accel             5\n"
     ]
    }
   ],
   "source": [
    "rfe = RFE(logreg)\n",
    "ref = rfe.fit(X_train_scaled,y_train)\n",
    "car = pd.DataFrame(ref.ranking_,index=nombres[:-1],columns=[\"Importancia\"])\n",
    "print(\"Listado de las variables:\")\n",
    "print(car.sort_values(by=\"Importancia\"))"
   ]
  },
  {
   "cell_type": "markdown",
   "id": "451716e1",
   "metadata": {},
   "source": [
    "Incluyendo las variable identificadas como influyentes"
   ]
  },
  {
   "cell_type": "code",
   "execution_count": null,
   "id": "480353ce",
   "metadata": {},
   "outputs": [],
   "source": [
    "Best = ref.ranking_ == 1  # Se seleccionan las variables consideradas como las mejores\n",
    "\n",
    "K=[]                      # Se crea una variable para almacenar las que fueron identificadas como las mejores\n",
    "for i in range(0,len(X)):\n",
    "    K.append(X[i][Best])\n",
    "X_new = np.asarray(K)\n",
    "\n",
    "X_train2,X_test2 = train_test_split(X_new,test_size=0.2, random_state=1234)\n",
    "scaler2 = preprocessing.StandardScaler().fit(X_train2)\n",
    "X_train_scaled2 = scaler2.transform(X_train2)\n",
    "X_test_scaled2 = scaler2.transform(X_test2)\n",
    "X_test_scaled2\n",
    "\n",
    "# Predicción con los mejores\n",
    "\n",
    "logreg2 = LogisticRegression()\n",
    "logreg2.fit(X_train_scaled2,y_train)\n",
    "\n",
    "predict2=logreg2.predict(X_test_scaled2)\n",
    "print(confusion_matrix(y_test,predict2))\n",
    "print(classification_report(y_test,predict2))"
   ]
  },
  {
   "cell_type": "code",
   "execution_count": null,
   "id": "231983fd",
   "metadata": {},
   "outputs": [],
   "source": [
    "plt.hist([y_test,predict2],label=[\"Valor pronosticado\",\"Valor real\"])\n",
    "plt.title(\"Valor observado vs pronóstico\")\n",
    "plt.ylabel('error')\n",
    "plt.legend(loc=0)\n",
    "plt.show()"
   ]
  },
  {
   "cell_type": "code",
   "execution_count": null,
   "id": "0219022d",
   "metadata": {},
   "outputs": [],
   "source": []
  },
  {
   "cell_type": "code",
   "execution_count": null,
   "id": "9fa20cba",
   "metadata": {},
   "outputs": [],
   "source": [
    "# Como parte del pre-procesamiento se escalan o normalizan las observaciones \n",
    "\n",
    "scaler = preprocessing.StandardScaler().fit(X_train) \n",
    "\n",
    "X_train_scaled = scaler.transform(X_train) # Se escalan las observaciones de entrenamiento\n",
    "### Entrenamiento del modelo\n",
    "\n",
    "logreg = LogisticRegression(max_iter=100) \n",
    "logreg.fit(X_train_scaled,y_train)        # Se ajusta el modelo con los datos de entrenamiento\n",
    "\n",
    "# Se crea un data frame para visualizar los datos para cada regresión \n",
    "\n",
    "coef = pd.DataFrame(logreg.coef_, columns=nombres[:-1])\n",
    "print(\"Coeficientes de regresión: \\n\")\n",
    "coef\n",
    "\n",
    "### Prueba y evaluación de desempeño del modelo\n",
    "\n",
    "predict = logreg.predict(X_test_scaled)   # Pronósticar nuevas observaciones. Se usan datos de prueba\n",
    "\n",
    "print(confusion_matrix(y_test,predict))       # Imprimir la matriz de confusión\n",
    "print(classification_report(y_test,predict))  # Imprimir un reporte de clasificación\n",
    "\n",
    "plt.hist([y_test,predict],label=[\"Valor pronosticado\",\"Valor real\"]) # Histograma de valores pronosticados\n",
    "plt.title(\"Valor observado vs pronóstico\")\n",
    "plt.ylabel('Frecuencia')\n",
    "plt.xlabel(\"Clase\")\n",
    "plt.legend(loc=0)\n",
    "plt.show()\n",
    "\n",
    "### Selección de características\n",
    "\n",
    "rfe = RFE(logreg)\n",
    "ref = rfe.fit(X_train_scaled,y_train)\n",
    "car = pd.DataFrame(ref.ranking_,index=nombres[:-1],columns=[\"Importancia\"])\n",
    "print(\"Listado de las variables:\")\n",
    "print(car.sort_values(by=\"Importancia\"))\n",
    "\n",
    "Incluyendo las variable identificadas como influyentes\n",
    "\n",
    "Best = ref.ranking_ == 1  # Se seleccionan las variables consideradas como las mejores\n",
    "\n",
    "K=[]                      # Se crea una variable para almacenar las que fueron identificadas como las mejores\n",
    "for i in range(0,len(X)):\n",
    "    K.append(X[i][Best])\n",
    "X_new = np.asarray(K)\n",
    "\n",
    "X_train2,X_test2 = train_test_split(X_new,test_size=0.2, random_state=1234)\n",
    "scaler2 = preprocessing.StandardScaler().fit(X_train2)\n",
    "X_train_scaled2 = scaler2.transform(X_train2)\n",
    "X_test_scaled2 = scaler2.transform(X_test2)\n",
    "X_test_scaled2\n",
    "\n",
    "# Predicción con los mejores\n",
    "\n",
    "logreg2 = LogisticRegression()\n",
    "logreg2.fit(X_train_scaled2,y_train)\n",
    "\n",
    "predict2=logreg2.predict(X_test_scaled2)\n",
    "print(confusion_matrix(y_test,predict2))\n",
    "print(classification_report(y_test,predict2))\n",
    "\n",
    "plt.hist([y_test,predict2],label=[\"Valor pronosticado\",\"Valor real\"])\n",
    "plt.title(\"Valor observado vs pronóstico\")\n",
    "plt.ylabel('error')\n",
    "plt.legend(loc=0)\n",
    "plt.show()\n",
    "\n",
    "\n",
    "X_test_scaled = scaler.transform(X_test)   # Se escalan las observaciones de prueba"
   ]
  }
 ],
 "metadata": {
  "kernelspec": {
   "display_name": "Python 3",
   "language": "python",
   "name": "python3"
  },
  "language_info": {
   "codemirror_mode": {
    "name": "ipython",
    "version": 3
   },
   "file_extension": ".py",
   "mimetype": "text/x-python",
   "name": "python",
   "nbconvert_exporter": "python",
   "pygments_lexer": "ipython3",
   "version": "3.8.8"
  }
 },
 "nbformat": 4,
 "nbformat_minor": 5
}
